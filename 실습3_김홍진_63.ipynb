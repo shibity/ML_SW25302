{
 "cells": [
  {
   "cell_type": "markdown",
   "metadata": {
    "id": "3O1ovzDc-XhX"
   },
   "source": [
    "---"
   ]
  },
  {
   "cell_type": "markdown",
   "metadata": {
    "id": "T2_iYcyf-XhZ"
   },
   "source": [
    "# P3:  Deep Learning Framwork: Pytorch를 이용하여 MLP 구현 (10점)\n",
    "\n",
    "### 학습목표\n",
    "- pytorch를 사용하여 구현된 MLP 구조를 이해하고 수정할수 있다.\n",
    "- Fashinon-MNIST 문제를 스스로 해결하면서 딥러닝 학습과정을 이해하고 하이퍼파라미터를 튜닝을 할 수 있다.\n",
    "\n",
    "### 실습내용\n",
    "pytorch를 사용하여 구현 되어 있는 MLP를 통해 Fashion-MNIST 데이터셋을 분류하는 classfier를 학습합니다.\n",
    "\n",
    "실습은 다음 순서로 진행됩니다.\n",
    "- 1) Fashon-MNIST 데이터셋 설명\n",
    "- 2) Data loading\n",
    "- 3) Multilayer Perceptron Model\n",
    "- 4) Training\n",
    "- 5) Evaluation\n",
    "- 6) Discussion\n",
    "\n",
    "아래 코드에는 2개의 퍼셉트론은 이용한 MLP 모델이 정의 되어 있습니다.\n",
    "실습을 시작하기전에 이 노트북 파일을 읽고 모든 셀을 실행해하여 올바르게 작동하는지 확인하세요.<br>\n",
    "이후에 아키텍쳐를 마음껏 변경하여 최고의 성능이 나오도록 수정해 보세요.\n",
    "\n",
    "**1. 다음은 변경 가능한 부분입니다.**\n",
    "- activation 함수 (logistic sigmoid, tanh, relu, leaky relu, ...)\n",
    "- learning rate\n",
    "- hidden layers 갯수\n",
    "- epochs\n",
    "- minibatch size\n",
    "- 각 hidden layer의 neuron 개수\n",
    "\n",
    "**2. 그러나 다음 사항은 변경하지 마세요.**\n",
    "- 가중치 초기화 방법\n",
    "- 랜덤시드\n",
    "- 최적화 방법, 학습 방법\n",
    "\n",
    "**3. layer를 추가하여 2개 이상의 hidden layer를 구성할 수 있게 구현하세요.**\n",
    "\n",
    "### 점수\n",
    "**Test set 기준**\n",
    "\n",
    "- 정확도 85% 이상 2점\n",
    "- 정확도 86% 이상 4점\n",
    "- 정확도 87% 이상 6점\n",
    "- 정확도 88% 이상 8점\n"
   ]
  },
  {
   "cell_type": "code",
   "execution_count": 1,
   "metadata": {
    "id": "xFNSugLA-Xhb"
   },
   "outputs": [],
   "source": [
    "import torch\n",
    "import os\n",
    "import numpy as np\n",
    "import time\n",
    "import random\n",
    "from PIL import Image\n",
    "from torch.utils.data import Dataset\n",
    "from torchvision import transforms\n",
    "from torch.utils.data import DataLoader\n",
    "import torch.nn.functional as F\n",
    "# Document: https://pytorch.org/docs/stable/nn.functional.html\n",
    "import matplotlib.pyplot as plt\n",
    "# Document: https://matplotlib.org/stable/api/_as_gen/matplotlib.pyplot.html\n",
    "%matplotlib inline"
   ]
  },
  {
   "cell_type": "code",
   "execution_count": 2,
   "metadata": {
    "id": "_r2ABfSt-Xhf"
   },
   "outputs": [],
   "source": [
    "# 이 부분은 절대 변경하지 마세요.\n",
    "\n",
    "RANDOM_SEED = 123\n",
    "DEVICE = torch.device('cuda:0' if torch.cuda.is_available() else 'cpu')"
   ]
  },
  {
   "cell_type": "markdown",
   "metadata": {
    "id": "rhzeDeuU-Xhh"
   },
   "source": [
    "## 1) Dataset 설명"
   ]
  },
  {
   "cell_type": "markdown",
   "metadata": {
    "id": "87nufxj3-Xhi"
   },
   "source": [
    "이 데이터셋은 기존의 MNIST와 비슷하게 10개의 클래스로 이루어진 데이터셋입니다. 또한 흑백의 28x28크기, 60k개의 학습용 이미지와 10k개의 테스트용 이미지로 구성 되어 있는것과 같이 MNIST와 대부분 비슷한 구조로 이뤄져 있습니다. \n",
    "\n",
    "아래는 데이터셋의 샘플 이미지 입니다.\n",
    "\n",
    "![](https://github.com/zalandoresearch/fashion-mnist/raw/master/doc/img/fashion-mnist-sprite.png)\n",
    "\n",
    "출처: https://github.com/zalandoresearch/fashion-mnist)\n",
    "\n"
   ]
  },
  {
   "cell_type": "markdown",
   "metadata": {
    "id": "07xhYbxe-Xhj"
   },
   "source": [
    "데이터셋의 10개의 클래스는 다음과 같습니다.\n",
    "\n",
    "\n",
    "| Label | Description |\n",
    "| --- | --- |\n",
    "| 0 | T-shirt/top |\n",
    "| 1 | Trouser |\n",
    "| 2 | Pullover |\n",
    "| 3 | Dress |\n",
    "| 4 | Coat |\n",
    "| 5 | Sandal |\n",
    "| 6 | Shirt |\n",
    "| 7 | Sneaker |\n",
    "| 8 | Bag |\n",
    "| 9 | Ankle boot |"
   ]
  },
  {
   "cell_type": "markdown",
   "metadata": {
    "id": "_ZflbxFy-Xhk"
   },
   "source": [
    "## 2) Dataset Loader"
   ]
  },
  {
   "cell_type": "code",
   "execution_count": 3,
   "metadata": {
    "id": "eAIvd7wi-Xhl"
   },
   "outputs": [],
   "source": [
    "import torch\n",
    "from PIL import Image\n",
    "from torchvision.datasets import FashionMNIST\n",
    "from torchvision import transforms\n",
    "from torch.utils.data import DataLoader\n",
    "\n",
    "import os"
   ]
  },
  {
   "cell_type": "code",
   "execution_count": 4,
   "metadata": {
    "id": "6-aVsh7M-Xhm"
   },
   "outputs": [],
   "source": [
    "# Train 데이터 로딩시 이미지 데이터 전처리를 Transforms를 통해 할 수 있습니다.\n",
    "# ToTensor는 PIL 형태의 이미지나 ndarray 를 PyTorch 가 이해할 수 있는 tensor 자료형으로 바꾸어 주는 역할을 하며\n",
    "# Random Flip, Random Crop 등을 사용하여 Data augmentation을 수행하고 이를 통해 좋은 성능을 얻을 수 있습니다.\n",
    "# 하지만, 이번 실습에서는 사용하지 않습니다.\n",
    "# Document: https://pytorch.org/vision/stable/transforms.html\n",
    "custom_train_transform = transforms.Compose([  \n",
    "                                             transforms.ToTensor(),\n",
    "                                             transforms.Normalize(mean=(0.5,), std=(0.5,))\n",
    "])"
   ]
  },
  {
   "cell_type": "code",
   "execution_count": 5,
   "metadata": {
    "id": "V4Cs91rD-Xhn"
   },
   "outputs": [],
   "source": [
    "# Test 데이터 로딩시 데이터 Transform\n",
    "# Testset의 Trainsform은 Training set 과 다르게 랜덤하게 변경되면 안됩니다.\n",
    "# 이번 실습에서는 사용하지 않습니다.\n",
    "custom_test_transform = transforms.Compose([\n",
    "                                             transforms.ToTensor(),\n",
    "                                             transforms.Normalize(mean=(0.5,), std=(0.5,))\n",
    "])"
   ]
  },
  {
   "cell_type": "code",
   "execution_count": 18,
   "metadata": {
    "id": "Cxo94wy--Xho"
   },
   "outputs": [],
   "source": [
    "############################################################\n",
    "# 변경 가능한 셀\n",
    "############################################################\n",
    "\n",
    "# BATCH_SIZE = 60000을 사용하면 Full-Batch 학습\n",
    "# BATCH_SIZE = 1을 사용하면 Online 학습\n",
    "# BATCH_SIZE = N (1 < N < 60000) 을 사용하면 Mini-batch 학습\n",
    "BATCH_SIZE = 128"
   ]
  },
  {
   "cell_type": "code",
   "execution_count": 19,
   "metadata": {
    "id": "W0BJtxqy-Xho"
   },
   "outputs": [],
   "source": [
    "train_dataset = FashionMNIST(\".\", train=True, download=True, transform=custom_train_transform)\n",
    "\n",
    "train_loader = DataLoader(dataset=train_dataset,\n",
    "                          batch_size=BATCH_SIZE,\n",
    "                          shuffle=True,\n",
    "                          drop_last=True,\n",
    "                          num_workers=2)\n",
    "\n",
    "\n",
    "test_dataset = FashionMNIST(\".\", train=False, download=True, transform=custom_test_transform)\n",
    "\n",
    "test_loader = DataLoader(dataset=test_dataset,\n",
    "                         batch_size=BATCH_SIZE,\n",
    "                         shuffle=False,\n",
    "                         num_workers=2)"
   ]
  },
  {
   "cell_type": "markdown",
   "metadata": {
    "id": "fhIVludZ-Xhp"
   },
   "source": [
    "아래 셀은 데이터셋이 잘 Load 되었는지 확인하는 테스트용 코드입니다.\n",
    "\n",
    "특히, Label data의 경우 One-hot vector encoding 되기 전의 형태의 class label 정보입니다."
   ]
  },
  {
   "cell_type": "code",
   "execution_count": 20,
   "metadata": {
    "colab": {
     "base_uri": "https://localhost:8080/"
    },
    "id": "4ynPzr05-Xhq",
    "outputId": "22e26b50-f27c-484d-cc83-e65d8745ce51"
   },
   "outputs": [
    {
     "name": "stdout",
     "output_type": "stream",
     "text": [
      "Epoch: 1 | Batch index: 0 | Batch size: 128\n",
      "Image data shape: \t torch.Size([128, 1, 28, 28])\n",
      "Label data shape: \t torch.Size([128])\n",
      "tensor([8, 5, 5, 3, 6, 0, 4, 8, 9, 5, 2, 4, 2, 0, 8, 5, 5, 1, 7, 0, 1, 4, 7, 7,\n",
      "        3, 3, 7, 8, 2, 8, 5, 8, 1, 8, 1, 7, 6, 1, 6, 6, 3, 9, 5, 1, 3, 9, 4, 0,\n",
      "        0, 2, 3, 8, 8, 1, 9, 4, 0, 1, 6, 7, 8, 9, 2, 1, 7, 5, 2, 3, 6, 8, 8, 5,\n",
      "        4, 2, 7, 8, 3, 8, 9, 4, 9, 0, 3, 0, 2, 8, 9, 4, 2, 8, 7, 8, 3, 3, 5, 6,\n",
      "        6, 9, 5, 9, 9, 6, 0, 1, 9, 7, 9, 3, 2, 1, 5, 5, 1, 3, 5, 5, 7, 8, 6, 2,\n",
      "        5, 2, 7, 4, 3, 1, 9, 7], device='cuda:0')\n"
     ]
    }
   ],
   "source": [
    "num_epochs = 1\n",
    "for epoch in range(num_epochs):\n",
    "\n",
    "    for batch_idx, (x, y) in enumerate(train_loader):\n",
    "        \n",
    "        print('Epoch:', epoch+1, end='')\n",
    "        print(' | Batch index:', batch_idx, end='')\n",
    "        print(' | Batch size:', y.size()[0])\n",
    "        \n",
    "        x = x.to(DEVICE)\n",
    "        y = y.to(DEVICE)\n",
    "        print(f'Image data shape: \\t {x.shape}')\n",
    "        print(f'Label data shape: \\t {y.shape}')\n",
    "        print(y)\n",
    "        break"
   ]
  },
  {
   "cell_type": "markdown",
   "metadata": {
    "id": "hyx-oBP8-Xhs"
   },
   "source": [
    "## 3) Multilayer Perceptron Model\n",
    "\n",
    "아래 셀은 MLP모델을 정의하는 부분입니다. 이 과제에서 메인 부분입니다.<br>\n",
    "Hidden layer이 2개가 되도록 변경하세요. 필요에 따라 3개 이상으로 늘려도 됩니다."
   ]
  },
  {
   "cell_type": "code",
   "execution_count": 21,
   "metadata": {
    "colab": {
     "base_uri": "https://localhost:8080/"
    },
    "id": "epjjFHlK-Xhs",
    "outputId": "9e1f33c3-78b5-4d36-b642-e57ad85aebaf"
   },
   "outputs": [
    {
     "data": {
      "text/plain": [
       "<torch._C.Generator at 0x7f7e7031e230>"
      ]
     },
     "execution_count": 21,
     "metadata": {},
     "output_type": "execute_result"
    }
   ],
   "source": [
    "############################################################\n",
    "# 변경 가능한 셀\n",
    "############################################################\n",
    "\n",
    "class MLP(torch.nn.Module):\n",
    "\n",
    "    def __init__(self, num_features, num_hidden_1, num_hidden_2,num_hidden_3, num_classes):\n",
    "        super(MLP, self).__init__()\n",
    "        \n",
    "        self.num_classes = num_classes # 10 \n",
    "        self.linear_1 = torch.nn.Linear(num_features, num_hidden_1)\n",
    "        self.linear_2 = torch.nn.Linear(num_hidden_1, num_hidden_2)\n",
    "        self.linear_3 = torch.nn.Linear(num_hidden_2, num_hidden_3)\n",
    "        # <your code> to add layer\n",
    "        self.linear_out = torch.nn.Linear(num_hidden_3, num_classes)\n",
    "        \n",
    "        # Multi-class classification 문제를 풀기 위해 Softmax 함수를 사용합니다.\n",
    "        self.softmax = torch.nn.Softmax(dim=-1)\n",
    "        \n",
    "    def forward(self, x):\n",
    "        \n",
    "        ### activation 함수 변경 가능\n",
    "        ### 레이어간의 연결 추가, 변경\n",
    "        out = self.linear_1(x)\n",
    "        out = F.relu(out)\n",
    "        out = self.linear_2(out)\n",
    "        out = F.relu(out)\n",
    "        out = self.linear_3(out)\n",
    "        out = F.relu(out)\n",
    "        # <your code> to set the layer and the activation function\n",
    "        \n",
    "        logits = self.linear_out(out)\n",
    "        \n",
    "        # Multi-class classification 문제를 풀기 위해 Softmax 함수를 사용합니다.\n",
    "        # 다만, 이후 사용할 F.cross_entropy() 함수 내부에 softmax가 이미 구현되어 있기 때문에\n",
    "        # Loss function 계산 시에는 self.softmax()를 통과하기 전의 logits 값을 이용하게 됩니다.\n",
    "        probas = self.softmax(logits)\n",
    "        return logits, probas\n",
    "\n",
    "# random seed는 무작위 가중치 초기화가 항상 같도록 해줍니다.\n",
    "# 초기화된 가중치에 따라 같은 네트워크도 서로 다른 성능을 낼 수 있어서 \n",
    "# 실제 사용시에는 좋은 성능을 얻기 위해 여러가지 무작위 가중치를 시도해 볼 수 있습니다.\n",
    "# 그러나 이 과제에서는 변경하지 않습니다.\n",
    "random.seed(RANDOM_SEED)\n",
    "torch.manual_seed(RANDOM_SEED)"
   ]
  },
  {
   "cell_type": "markdown",
   "metadata": {
    "id": "IRPyUmsF-Xht"
   },
   "source": [
    "## 4) Training"
   ]
  },
  {
   "cell_type": "markdown",
   "metadata": {
    "id": "i4muXBbb-Xhu"
   },
   "source": [
    "**Cross entropy loss function 사용 시 주의점**\n",
    "\n",
    "- 모델의 출력인 logits, probas의 차원은 [BATCH_SIZE, num_classes] 형태지만, 정답 Label인 targets 변수의 차원은 [BATCH_SIZE] 입니다. (ex, [1, 3, 2, 4, 9, ..., 3])\n",
    "\n",
    "\n",
    "- 일반적으로 Cross Entropy Loss를 계산하기 위해서는 targets에 one-hot vector encoding을 수행해주어야 하지만, F.cross_entropy() 함수는 이를 내부적으로 수행해줍니다.\n",
    "\n",
    "\n",
    "- 또한, F.cross_entropy() 함수 내부적으로 softmax 함수를 이용하기 때문에, 모델의 출력 중 probas 값이 아닌 logits 값을 이용하여 Loss function을 계산합니다.\n",
    "\n",
    "\n",
    "- 구현 상세는 pytorch documents에서 확인할 수 있습니다. (https://pytorch.org/docs/stable/generated/torch.nn.functional.cross_entropy.html#torch.nn.functional.cross_entropy)"
   ]
  },
  {
   "cell_type": "code",
   "execution_count": 22,
   "metadata": {
    "colab": {
     "base_uri": "https://localhost:8080/"
    },
    "id": "vwmiFjc6-Xhv",
    "outputId": "9c67cd26-b9f5-4653-afe4-7cd76e4e550e"
   },
   "outputs": [
    {
     "name": "stdout",
     "output_type": "stream",
     "text": [
      "Epoch: 001/040 | Batch 000/468 | Cost: 2.3062\n",
      "Epoch: 001/040 | Batch 040/468 | Cost: 2.2483\n",
      "Epoch: 001/040 | Batch 080/468 | Cost: 2.1313\n",
      "Epoch: 001/040 | Batch 120/468 | Cost: 1.9173\n",
      "Epoch: 001/040 | Batch 160/468 | Cost: 1.5254\n",
      "Epoch: 001/040 | Batch 200/468 | Cost: 1.2221\n",
      "Epoch: 001/040 | Batch 240/468 | Cost: 1.1337\n",
      "Epoch: 001/040 | Batch 280/468 | Cost: 0.8470\n",
      "Epoch: 001/040 | Batch 320/468 | Cost: 0.8925\n",
      "Epoch: 001/040 | Batch 360/468 | Cost: 0.6950\n",
      "Epoch: 001/040 | Batch 400/468 | Cost: 0.7738\n",
      "Epoch: 001/040 | Batch 440/468 | Cost: 0.6156\n",
      "Epoch: 001/040 Train Acc.: 73.81% | Test Acc.: 73.04%\n",
      "Time elapsed: 0.27 min\n",
      "Epoch: 002/040 | Batch 000/468 | Cost: 0.6794\n",
      "Epoch: 002/040 | Batch 040/468 | Cost: 0.5532\n",
      "Epoch: 002/040 | Batch 080/468 | Cost: 0.7124\n",
      "Epoch: 002/040 | Batch 120/468 | Cost: 0.6050\n",
      "Epoch: 002/040 | Batch 160/468 | Cost: 0.5596\n",
      "Epoch: 002/040 | Batch 200/468 | Cost: 0.6166\n",
      "Epoch: 002/040 | Batch 240/468 | Cost: 0.5668\n",
      "Epoch: 002/040 | Batch 280/468 | Cost: 0.5515\n",
      "Epoch: 002/040 | Batch 320/468 | Cost: 0.6263\n",
      "Epoch: 002/040 | Batch 360/468 | Cost: 0.5812\n",
      "Epoch: 002/040 | Batch 400/468 | Cost: 0.5968\n",
      "Epoch: 002/040 | Batch 440/468 | Cost: 0.5627\n",
      "Epoch: 002/040 Train Acc.: 79.85% | Test Acc.: 78.45%\n",
      "Time elapsed: 0.53 min\n",
      "Epoch: 003/040 | Batch 000/468 | Cost: 0.5778\n",
      "Epoch: 003/040 | Batch 040/468 | Cost: 0.5096\n",
      "Epoch: 003/040 | Batch 080/468 | Cost: 0.5456\n",
      "Epoch: 003/040 | Batch 120/468 | Cost: 0.4233\n",
      "Epoch: 003/040 | Batch 160/468 | Cost: 0.6946\n",
      "Epoch: 003/040 | Batch 200/468 | Cost: 0.4910\n",
      "Epoch: 003/040 | Batch 240/468 | Cost: 0.4311\n",
      "Epoch: 003/040 | Batch 280/468 | Cost: 0.4730\n",
      "Epoch: 003/040 | Batch 320/468 | Cost: 0.4270\n",
      "Epoch: 003/040 | Batch 360/468 | Cost: 0.4443\n",
      "Epoch: 003/040 | Batch 400/468 | Cost: 0.4534\n",
      "Epoch: 003/040 | Batch 440/468 | Cost: 0.5384\n",
      "Epoch: 003/040 Train Acc.: 82.49% | Test Acc.: 81.35%\n",
      "Time elapsed: 0.79 min\n",
      "Epoch: 004/040 | Batch 000/468 | Cost: 0.4517\n",
      "Epoch: 004/040 | Batch 040/468 | Cost: 0.5579\n",
      "Epoch: 004/040 | Batch 080/468 | Cost: 0.5798\n",
      "Epoch: 004/040 | Batch 120/468 | Cost: 0.4108\n",
      "Epoch: 004/040 | Batch 160/468 | Cost: 0.3868\n",
      "Epoch: 004/040 | Batch 200/468 | Cost: 0.4222\n",
      "Epoch: 004/040 | Batch 240/468 | Cost: 0.5167\n",
      "Epoch: 004/040 | Batch 280/468 | Cost: 0.4390\n",
      "Epoch: 004/040 | Batch 320/468 | Cost: 0.3912\n",
      "Epoch: 004/040 | Batch 360/468 | Cost: 0.4826\n",
      "Epoch: 004/040 | Batch 400/468 | Cost: 0.5053\n",
      "Epoch: 004/040 | Batch 440/468 | Cost: 0.3838\n",
      "Epoch: 004/040 Train Acc.: 84.06% | Test Acc.: 82.81%\n",
      "Time elapsed: 1.06 min\n",
      "Epoch: 005/040 | Batch 000/468 | Cost: 0.5141\n",
      "Epoch: 005/040 | Batch 040/468 | Cost: 0.4149\n",
      "Epoch: 005/040 | Batch 080/468 | Cost: 0.6037\n",
      "Epoch: 005/040 | Batch 120/468 | Cost: 0.3089\n",
      "Epoch: 005/040 | Batch 160/468 | Cost: 0.4813\n",
      "Epoch: 005/040 | Batch 200/468 | Cost: 0.4777\n",
      "Epoch: 005/040 | Batch 240/468 | Cost: 0.4221\n",
      "Epoch: 005/040 | Batch 280/468 | Cost: 0.4362\n",
      "Epoch: 005/040 | Batch 320/468 | Cost: 0.5361\n",
      "Epoch: 005/040 | Batch 360/468 | Cost: 0.3740\n",
      "Epoch: 005/040 | Batch 400/468 | Cost: 0.4466\n",
      "Epoch: 005/040 | Batch 440/468 | Cost: 0.3272\n",
      "Epoch: 005/040 Train Acc.: 84.69% | Test Acc.: 83.33%\n",
      "Time elapsed: 1.32 min\n",
      "Epoch: 006/040 | Batch 000/468 | Cost: 0.4617\n",
      "Epoch: 006/040 | Batch 040/468 | Cost: 0.4065\n",
      "Epoch: 006/040 | Batch 080/468 | Cost: 0.4990\n",
      "Epoch: 006/040 | Batch 120/468 | Cost: 0.5120\n",
      "Epoch: 006/040 | Batch 160/468 | Cost: 0.4914\n",
      "Epoch: 006/040 | Batch 200/468 | Cost: 0.4064\n",
      "Epoch: 006/040 | Batch 240/468 | Cost: 0.3183\n",
      "Epoch: 006/040 | Batch 280/468 | Cost: 0.3117\n",
      "Epoch: 006/040 | Batch 320/468 | Cost: 0.4406\n",
      "Epoch: 006/040 | Batch 360/468 | Cost: 0.3763\n",
      "Epoch: 006/040 | Batch 400/468 | Cost: 0.5220\n",
      "Epoch: 006/040 | Batch 440/468 | Cost: 0.5022\n",
      "Epoch: 006/040 Train Acc.: 85.44% | Test Acc.: 83.98%\n",
      "Time elapsed: 1.59 min\n",
      "Epoch: 007/040 | Batch 000/468 | Cost: 0.4973\n",
      "Epoch: 007/040 | Batch 040/468 | Cost: 0.4329\n",
      "Epoch: 007/040 | Batch 080/468 | Cost: 0.3857\n",
      "Epoch: 007/040 | Batch 120/468 | Cost: 0.4736\n",
      "Epoch: 007/040 | Batch 160/468 | Cost: 0.3154\n",
      "Epoch: 007/040 | Batch 200/468 | Cost: 0.4120\n",
      "Epoch: 007/040 | Batch 240/468 | Cost: 0.4588\n",
      "Epoch: 007/040 | Batch 280/468 | Cost: 0.3427\n",
      "Epoch: 007/040 | Batch 320/468 | Cost: 0.4076\n",
      "Epoch: 007/040 | Batch 360/468 | Cost: 0.4448\n",
      "Epoch: 007/040 | Batch 400/468 | Cost: 0.3667\n",
      "Epoch: 007/040 | Batch 440/468 | Cost: 0.2845\n",
      "Epoch: 007/040 Train Acc.: 85.30% | Test Acc.: 83.45%\n",
      "Time elapsed: 1.85 min\n",
      "Epoch: 008/040 | Batch 000/468 | Cost: 0.3777\n",
      "Epoch: 008/040 | Batch 040/468 | Cost: 0.4348\n",
      "Epoch: 008/040 | Batch 080/468 | Cost: 0.3491\n",
      "Epoch: 008/040 | Batch 120/468 | Cost: 0.4292\n",
      "Epoch: 008/040 | Batch 160/468 | Cost: 0.3209\n",
      "Epoch: 008/040 | Batch 200/468 | Cost: 0.4437\n",
      "Epoch: 008/040 | Batch 240/468 | Cost: 0.3087\n",
      "Epoch: 008/040 | Batch 280/468 | Cost: 0.3827\n",
      "Epoch: 008/040 | Batch 320/468 | Cost: 0.3195\n",
      "Epoch: 008/040 | Batch 360/468 | Cost: 0.3138\n",
      "Epoch: 008/040 | Batch 400/468 | Cost: 0.3364\n",
      "Epoch: 008/040 | Batch 440/468 | Cost: 0.5858\n",
      "Epoch: 008/040 Train Acc.: 86.43% | Test Acc.: 84.88%\n",
      "Time elapsed: 2.11 min\n",
      "Epoch: 009/040 | Batch 000/468 | Cost: 0.2988\n",
      "Epoch: 009/040 | Batch 040/468 | Cost: 0.2655\n",
      "Epoch: 009/040 | Batch 080/468 | Cost: 0.2964\n",
      "Epoch: 009/040 | Batch 120/468 | Cost: 0.4093\n",
      "Epoch: 009/040 | Batch 160/468 | Cost: 0.2880\n",
      "Epoch: 009/040 | Batch 200/468 | Cost: 0.3471\n",
      "Epoch: 009/040 | Batch 240/468 | Cost: 0.3218\n",
      "Epoch: 009/040 | Batch 280/468 | Cost: 0.3890\n",
      "Epoch: 009/040 | Batch 320/468 | Cost: 0.4705\n",
      "Epoch: 009/040 | Batch 360/468 | Cost: 0.3673\n",
      "Epoch: 009/040 | Batch 400/468 | Cost: 0.4118\n",
      "Epoch: 009/040 | Batch 440/468 | Cost: 0.3837\n",
      "Epoch: 009/040 Train Acc.: 86.69% | Test Acc.: 85.19%\n",
      "Time elapsed: 2.38 min\n",
      "Epoch: 010/040 | Batch 000/468 | Cost: 0.2734\n",
      "Epoch: 010/040 | Batch 040/468 | Cost: 0.3850\n",
      "Epoch: 010/040 | Batch 080/468 | Cost: 0.3150\n",
      "Epoch: 010/040 | Batch 120/468 | Cost: 0.3901\n",
      "Epoch: 010/040 | Batch 160/468 | Cost: 0.3213\n",
      "Epoch: 010/040 | Batch 200/468 | Cost: 0.3098\n",
      "Epoch: 010/040 | Batch 240/468 | Cost: 0.3519\n",
      "Epoch: 010/040 | Batch 280/468 | Cost: 0.4015\n",
      "Epoch: 010/040 | Batch 320/468 | Cost: 0.2940\n",
      "Epoch: 010/040 | Batch 360/468 | Cost: 0.4395\n",
      "Epoch: 010/040 | Batch 400/468 | Cost: 0.3280\n",
      "Epoch: 010/040 | Batch 440/468 | Cost: 0.4174\n",
      "Epoch: 010/040 Train Acc.: 87.29% | Test Acc.: 85.59%\n",
      "Time elapsed: 2.65 min\n",
      "Epoch: 011/040 | Batch 000/468 | Cost: 0.4113\n",
      "Epoch: 011/040 | Batch 040/468 | Cost: 0.3812\n",
      "Epoch: 011/040 | Batch 080/468 | Cost: 0.3945\n",
      "Epoch: 011/040 | Batch 120/468 | Cost: 0.4684\n",
      "Epoch: 011/040 | Batch 160/468 | Cost: 0.4624\n",
      "Epoch: 011/040 | Batch 200/468 | Cost: 0.4622\n",
      "Epoch: 011/040 | Batch 240/468 | Cost: 0.2816\n",
      "Epoch: 011/040 | Batch 280/468 | Cost: 0.4247\n",
      "Epoch: 011/040 | Batch 320/468 | Cost: 0.4211\n",
      "Epoch: 011/040 | Batch 360/468 | Cost: 0.3318\n",
      "Epoch: 011/040 | Batch 400/468 | Cost: 0.3803\n",
      "Epoch: 011/040 | Batch 440/468 | Cost: 0.3394\n",
      "Epoch: 011/040 Train Acc.: 86.90% | Test Acc.: 84.88%\n",
      "Time elapsed: 2.91 min\n",
      "Epoch: 012/040 | Batch 000/468 | Cost: 0.3250\n",
      "Epoch: 012/040 | Batch 040/468 | Cost: 0.3404\n",
      "Epoch: 012/040 | Batch 080/468 | Cost: 0.3443\n",
      "Epoch: 012/040 | Batch 120/468 | Cost: 0.4503\n",
      "Epoch: 012/040 | Batch 160/468 | Cost: 0.3300\n",
      "Epoch: 012/040 | Batch 200/468 | Cost: 0.2737\n",
      "Epoch: 012/040 | Batch 240/468 | Cost: 0.3278\n",
      "Epoch: 012/040 | Batch 280/468 | Cost: 0.2908\n",
      "Epoch: 012/040 | Batch 320/468 | Cost: 0.5206\n",
      "Epoch: 012/040 | Batch 360/468 | Cost: 0.3155\n",
      "Epoch: 012/040 | Batch 400/468 | Cost: 0.3988\n",
      "Epoch: 012/040 | Batch 440/468 | Cost: 0.4439\n",
      "Epoch: 012/040 Train Acc.: 87.53% | Test Acc.: 85.82%\n",
      "Time elapsed: 3.18 min\n",
      "Epoch: 013/040 | Batch 000/468 | Cost: 0.3151\n",
      "Epoch: 013/040 | Batch 040/468 | Cost: 0.3116\n",
      "Epoch: 013/040 | Batch 080/468 | Cost: 0.3373\n",
      "Epoch: 013/040 | Batch 120/468 | Cost: 0.3395\n",
      "Epoch: 013/040 | Batch 160/468 | Cost: 0.3398\n",
      "Epoch: 013/040 | Batch 200/468 | Cost: 0.4175\n",
      "Epoch: 013/040 | Batch 240/468 | Cost: 0.3233\n",
      "Epoch: 013/040 | Batch 280/468 | Cost: 0.5254\n",
      "Epoch: 013/040 | Batch 320/468 | Cost: 0.3785\n",
      "Epoch: 013/040 | Batch 360/468 | Cost: 0.2812\n",
      "Epoch: 013/040 | Batch 400/468 | Cost: 0.2656\n",
      "Epoch: 013/040 | Batch 440/468 | Cost: 0.2769\n",
      "Epoch: 013/040 Train Acc.: 88.52% | Test Acc.: 86.47%\n",
      "Time elapsed: 3.44 min\n",
      "Epoch: 014/040 | Batch 000/468 | Cost: 0.3195\n",
      "Epoch: 014/040 | Batch 040/468 | Cost: 0.3130\n",
      "Epoch: 014/040 | Batch 080/468 | Cost: 0.3603\n",
      "Epoch: 014/040 | Batch 120/468 | Cost: 0.2320\n",
      "Epoch: 014/040 | Batch 160/468 | Cost: 0.4798\n",
      "Epoch: 014/040 | Batch 200/468 | Cost: 0.2923\n",
      "Epoch: 014/040 | Batch 240/468 | Cost: 0.5254\n",
      "Epoch: 014/040 | Batch 280/468 | Cost: 0.3178\n",
      "Epoch: 014/040 | Batch 320/468 | Cost: 0.2640\n",
      "Epoch: 014/040 | Batch 360/468 | Cost: 0.2738\n",
      "Epoch: 014/040 | Batch 400/468 | Cost: 0.2782\n",
      "Epoch: 014/040 | Batch 440/468 | Cost: 0.2572\n",
      "Epoch: 014/040 Train Acc.: 88.29% | Test Acc.: 85.85%\n",
      "Time elapsed: 3.71 min\n",
      "Epoch: 015/040 | Batch 000/468 | Cost: 0.4269\n",
      "Epoch: 015/040 | Batch 040/468 | Cost: 0.2210\n",
      "Epoch: 015/040 | Batch 080/468 | Cost: 0.3945\n",
      "Epoch: 015/040 | Batch 120/468 | Cost: 0.2624\n",
      "Epoch: 015/040 | Batch 160/468 | Cost: 0.2955\n",
      "Epoch: 015/040 | Batch 200/468 | Cost: 0.3487\n",
      "Epoch: 015/040 | Batch 240/468 | Cost: 0.3539\n",
      "Epoch: 015/040 | Batch 280/468 | Cost: 0.2772\n",
      "Epoch: 015/040 | Batch 320/468 | Cost: 0.3234\n",
      "Epoch: 015/040 | Batch 360/468 | Cost: 0.3919\n",
      "Epoch: 015/040 | Batch 400/468 | Cost: 0.2680\n",
      "Epoch: 015/040 | Batch 440/468 | Cost: 0.3266\n",
      "Epoch: 015/040 Train Acc.: 88.95% | Test Acc.: 86.93%\n",
      "Time elapsed: 3.98 min\n",
      "Epoch: 016/040 | Batch 000/468 | Cost: 0.2892\n",
      "Epoch: 016/040 | Batch 040/468 | Cost: 0.4015\n",
      "Epoch: 016/040 | Batch 080/468 | Cost: 0.3233\n",
      "Epoch: 016/040 | Batch 120/468 | Cost: 0.3696\n",
      "Epoch: 016/040 | Batch 160/468 | Cost: 0.3037\n",
      "Epoch: 016/040 | Batch 200/468 | Cost: 0.3193\n",
      "Epoch: 016/040 | Batch 240/468 | Cost: 0.2772\n",
      "Epoch: 016/040 | Batch 280/468 | Cost: 0.2742\n",
      "Epoch: 016/040 | Batch 320/468 | Cost: 0.2992\n",
      "Epoch: 016/040 | Batch 360/468 | Cost: 0.2769\n",
      "Epoch: 016/040 | Batch 400/468 | Cost: 0.4092\n",
      "Epoch: 016/040 | Batch 440/468 | Cost: 0.3602\n",
      "Epoch: 016/040 Train Acc.: 89.00% | Test Acc.: 86.93%\n",
      "Time elapsed: 4.24 min\n",
      "Epoch: 017/040 | Batch 000/468 | Cost: 0.3065\n",
      "Epoch: 017/040 | Batch 040/468 | Cost: 0.2269\n",
      "Epoch: 017/040 | Batch 080/468 | Cost: 0.2577\n",
      "Epoch: 017/040 | Batch 120/468 | Cost: 0.3876\n",
      "Epoch: 017/040 | Batch 160/468 | Cost: 0.2509\n",
      "Epoch: 017/040 | Batch 200/468 | Cost: 0.3945\n",
      "Epoch: 017/040 | Batch 240/468 | Cost: 0.2833\n",
      "Epoch: 017/040 | Batch 280/468 | Cost: 0.3365\n",
      "Epoch: 017/040 | Batch 320/468 | Cost: 0.2018\n",
      "Epoch: 017/040 | Batch 360/468 | Cost: 0.1999\n",
      "Epoch: 017/040 | Batch 400/468 | Cost: 0.2241\n",
      "Epoch: 017/040 | Batch 440/468 | Cost: 0.3552\n",
      "Epoch: 017/040 Train Acc.: 89.35% | Test Acc.: 86.95%\n",
      "Time elapsed: 4.50 min\n",
      "Epoch: 018/040 | Batch 000/468 | Cost: 0.2398\n",
      "Epoch: 018/040 | Batch 040/468 | Cost: 0.2296\n",
      "Epoch: 018/040 | Batch 080/468 | Cost: 0.4059\n",
      "Epoch: 018/040 | Batch 120/468 | Cost: 0.2992\n",
      "Epoch: 018/040 | Batch 160/468 | Cost: 0.3078\n",
      "Epoch: 018/040 | Batch 200/468 | Cost: 0.2805\n",
      "Epoch: 018/040 | Batch 240/468 | Cost: 0.1962\n",
      "Epoch: 018/040 | Batch 280/468 | Cost: 0.3389\n",
      "Epoch: 018/040 | Batch 320/468 | Cost: 0.2777\n",
      "Epoch: 018/040 | Batch 360/468 | Cost: 0.3013\n",
      "Epoch: 018/040 | Batch 400/468 | Cost: 0.2618\n",
      "Epoch: 018/040 | Batch 440/468 | Cost: 0.2822\n",
      "Epoch: 018/040 Train Acc.: 89.38% | Test Acc.: 87.07%\n",
      "Time elapsed: 4.77 min\n",
      "Epoch: 019/040 | Batch 000/468 | Cost: 0.2913\n",
      "Epoch: 019/040 | Batch 040/468 | Cost: 0.3186\n",
      "Epoch: 019/040 | Batch 080/468 | Cost: 0.3866\n",
      "Epoch: 019/040 | Batch 120/468 | Cost: 0.2801\n",
      "Epoch: 019/040 | Batch 160/468 | Cost: 0.3053\n",
      "Epoch: 019/040 | Batch 200/468 | Cost: 0.4116\n",
      "Epoch: 019/040 | Batch 240/468 | Cost: 0.2381\n",
      "Epoch: 019/040 | Batch 280/468 | Cost: 0.4363\n",
      "Epoch: 019/040 | Batch 320/468 | Cost: 0.1477\n",
      "Epoch: 019/040 | Batch 360/468 | Cost: 0.3049\n",
      "Epoch: 019/040 | Batch 400/468 | Cost: 0.2966\n",
      "Epoch: 019/040 | Batch 440/468 | Cost: 0.3191\n",
      "Epoch: 019/040 Train Acc.: 88.61% | Test Acc.: 86.28%\n",
      "Time elapsed: 5.04 min\n",
      "Epoch: 020/040 | Batch 000/468 | Cost: 0.2212\n",
      "Epoch: 020/040 | Batch 040/468 | Cost: 0.2137\n",
      "Epoch: 020/040 | Batch 080/468 | Cost: 0.3212\n",
      "Epoch: 020/040 | Batch 120/468 | Cost: 0.2691\n",
      "Epoch: 020/040 | Batch 160/468 | Cost: 0.3309\n",
      "Epoch: 020/040 | Batch 200/468 | Cost: 0.2535\n",
      "Epoch: 020/040 | Batch 240/468 | Cost: 0.2607\n",
      "Epoch: 020/040 | Batch 280/468 | Cost: 0.4021\n",
      "Epoch: 020/040 | Batch 320/468 | Cost: 0.4240\n",
      "Epoch: 020/040 | Batch 360/468 | Cost: 0.3009\n",
      "Epoch: 020/040 | Batch 400/468 | Cost: 0.2635\n",
      "Epoch: 020/040 | Batch 440/468 | Cost: 0.2704\n",
      "Epoch: 020/040 Train Acc.: 89.64% | Test Acc.: 87.24%\n",
      "Time elapsed: 5.30 min\n",
      "Epoch: 021/040 | Batch 000/468 | Cost: 0.2809\n",
      "Epoch: 021/040 | Batch 040/468 | Cost: 0.3050\n",
      "Epoch: 021/040 | Batch 080/468 | Cost: 0.2922\n",
      "Epoch: 021/040 | Batch 120/468 | Cost: 0.2029\n",
      "Epoch: 021/040 | Batch 160/468 | Cost: 0.3058\n",
      "Epoch: 021/040 | Batch 200/468 | Cost: 0.1564\n",
      "Epoch: 021/040 | Batch 240/468 | Cost: 0.2481\n",
      "Epoch: 021/040 | Batch 280/468 | Cost: 0.4289\n",
      "Epoch: 021/040 | Batch 320/468 | Cost: 0.2497\n",
      "Epoch: 021/040 | Batch 360/468 | Cost: 0.3131\n",
      "Epoch: 021/040 | Batch 400/468 | Cost: 0.2590\n",
      "Epoch: 021/040 | Batch 440/468 | Cost: 0.3692\n",
      "Epoch: 021/040 Train Acc.: 90.08% | Test Acc.: 87.42%\n",
      "Time elapsed: 5.56 min\n",
      "Epoch: 022/040 | Batch 000/468 | Cost: 0.2895\n",
      "Epoch: 022/040 | Batch 040/468 | Cost: 0.2327\n",
      "Epoch: 022/040 | Batch 080/468 | Cost: 0.3696\n",
      "Epoch: 022/040 | Batch 120/468 | Cost: 0.3422\n",
      "Epoch: 022/040 | Batch 160/468 | Cost: 0.3712\n",
      "Epoch: 022/040 | Batch 200/468 | Cost: 0.2369\n",
      "Epoch: 022/040 | Batch 240/468 | Cost: 0.2449\n",
      "Epoch: 022/040 | Batch 280/468 | Cost: 0.2425\n",
      "Epoch: 022/040 | Batch 320/468 | Cost: 0.2238\n",
      "Epoch: 022/040 | Batch 360/468 | Cost: 0.3457\n",
      "Epoch: 022/040 | Batch 400/468 | Cost: 0.1742\n",
      "Epoch: 022/040 | Batch 440/468 | Cost: 0.2119\n",
      "Epoch: 022/040 Train Acc.: 89.46% | Test Acc.: 87.01%\n",
      "Time elapsed: 5.83 min\n",
      "Epoch: 023/040 | Batch 000/468 | Cost: 0.3024\n",
      "Epoch: 023/040 | Batch 040/468 | Cost: 0.1913\n",
      "Epoch: 023/040 | Batch 080/468 | Cost: 0.3743\n",
      "Epoch: 023/040 | Batch 120/468 | Cost: 0.2583\n",
      "Epoch: 023/040 | Batch 160/468 | Cost: 0.4035\n",
      "Epoch: 023/040 | Batch 200/468 | Cost: 0.2049\n",
      "Epoch: 023/040 | Batch 240/468 | Cost: 0.2018\n",
      "Epoch: 023/040 | Batch 280/468 | Cost: 0.3014\n",
      "Epoch: 023/040 | Batch 320/468 | Cost: 0.2147\n",
      "Epoch: 023/040 | Batch 360/468 | Cost: 0.3446\n",
      "Epoch: 023/040 | Batch 400/468 | Cost: 0.2698\n",
      "Epoch: 023/040 | Batch 440/468 | Cost: 0.3237\n",
      "Epoch: 023/040 Train Acc.: 90.01% | Test Acc.: 87.21%\n",
      "Time elapsed: 6.09 min\n",
      "Epoch: 024/040 | Batch 000/468 | Cost: 0.2715\n",
      "Epoch: 024/040 | Batch 040/468 | Cost: 0.1657\n",
      "Epoch: 024/040 | Batch 080/468 | Cost: 0.3216\n",
      "Epoch: 024/040 | Batch 120/468 | Cost: 0.2626\n",
      "Epoch: 024/040 | Batch 160/468 | Cost: 0.2708\n",
      "Epoch: 024/040 | Batch 200/468 | Cost: 0.2182\n",
      "Epoch: 024/040 | Batch 240/468 | Cost: 0.4203\n",
      "Epoch: 024/040 | Batch 280/468 | Cost: 0.1818\n",
      "Epoch: 024/040 | Batch 320/468 | Cost: 0.2993\n",
      "Epoch: 024/040 | Batch 360/468 | Cost: 0.1920\n",
      "Epoch: 024/040 | Batch 400/468 | Cost: 0.2987\n",
      "Epoch: 024/040 | Batch 440/468 | Cost: 0.1905\n",
      "Epoch: 024/040 Train Acc.: 90.42% | Test Acc.: 87.36%\n",
      "Time elapsed: 6.36 min\n",
      "Epoch: 025/040 | Batch 000/468 | Cost: 0.2440\n",
      "Epoch: 025/040 | Batch 040/468 | Cost: 0.3122\n",
      "Epoch: 025/040 | Batch 080/468 | Cost: 0.2987\n",
      "Epoch: 025/040 | Batch 120/468 | Cost: 0.2140\n",
      "Epoch: 025/040 | Batch 160/468 | Cost: 0.3482\n",
      "Epoch: 025/040 | Batch 200/468 | Cost: 0.2555\n",
      "Epoch: 025/040 | Batch 240/468 | Cost: 0.2456\n",
      "Epoch: 025/040 | Batch 280/468 | Cost: 0.1786\n",
      "Epoch: 025/040 | Batch 320/468 | Cost: 0.2656\n",
      "Epoch: 025/040 | Batch 360/468 | Cost: 0.3317\n",
      "Epoch: 025/040 | Batch 400/468 | Cost: 0.2998\n",
      "Epoch: 025/040 | Batch 440/468 | Cost: 0.2052\n",
      "Epoch: 025/040 Train Acc.: 90.78% | Test Acc.: 87.90%\n",
      "Time elapsed: 6.62 min\n",
      "Epoch: 026/040 | Batch 000/468 | Cost: 0.3335\n",
      "Epoch: 026/040 | Batch 040/468 | Cost: 0.2959\n",
      "Epoch: 026/040 | Batch 080/468 | Cost: 0.2966\n",
      "Epoch: 026/040 | Batch 120/468 | Cost: 0.2390\n",
      "Epoch: 026/040 | Batch 160/468 | Cost: 0.2011\n",
      "Epoch: 026/040 | Batch 200/468 | Cost: 0.2382\n",
      "Epoch: 026/040 | Batch 240/468 | Cost: 0.3420\n",
      "Epoch: 026/040 | Batch 280/468 | Cost: 0.1551\n",
      "Epoch: 026/040 | Batch 320/468 | Cost: 0.2926\n",
      "Epoch: 026/040 | Batch 360/468 | Cost: 0.4316\n",
      "Epoch: 026/040 | Batch 400/468 | Cost: 0.2744\n",
      "Epoch: 026/040 | Batch 440/468 | Cost: 0.2747\n",
      "Epoch: 026/040 Train Acc.: 90.81% | Test Acc.: 87.34%\n",
      "Time elapsed: 6.89 min\n",
      "Epoch: 027/040 | Batch 000/468 | Cost: 0.2447\n",
      "Epoch: 027/040 | Batch 040/468 | Cost: 0.1927\n",
      "Epoch: 027/040 | Batch 080/468 | Cost: 0.2463\n",
      "Epoch: 027/040 | Batch 120/468 | Cost: 0.2195\n",
      "Epoch: 027/040 | Batch 160/468 | Cost: 0.2429\n",
      "Epoch: 027/040 | Batch 200/468 | Cost: 0.3078\n",
      "Epoch: 027/040 | Batch 240/468 | Cost: 0.2599\n",
      "Epoch: 027/040 | Batch 280/468 | Cost: 0.4139\n",
      "Epoch: 027/040 | Batch 320/468 | Cost: 0.1169\n",
      "Epoch: 027/040 | Batch 360/468 | Cost: 0.2381\n",
      "Epoch: 027/040 | Batch 400/468 | Cost: 0.3565\n",
      "Epoch: 027/040 | Batch 440/468 | Cost: 0.2706\n",
      "Epoch: 027/040 Train Acc.: 90.87% | Test Acc.: 87.47%\n",
      "Time elapsed: 7.15 min\n",
      "Epoch: 028/040 | Batch 000/468 | Cost: 0.1802\n",
      "Epoch: 028/040 | Batch 040/468 | Cost: 0.3006\n",
      "Epoch: 028/040 | Batch 080/468 | Cost: 0.2871\n",
      "Epoch: 028/040 | Batch 120/468 | Cost: 0.2591\n",
      "Epoch: 028/040 | Batch 160/468 | Cost: 0.3344\n",
      "Epoch: 028/040 | Batch 200/468 | Cost: 0.1977\n",
      "Epoch: 028/040 | Batch 240/468 | Cost: 0.2402\n",
      "Epoch: 028/040 | Batch 280/468 | Cost: 0.2585\n",
      "Epoch: 028/040 | Batch 320/468 | Cost: 0.2612\n",
      "Epoch: 028/040 | Batch 360/468 | Cost: 0.2761\n",
      "Epoch: 028/040 | Batch 400/468 | Cost: 0.2121\n",
      "Epoch: 028/040 | Batch 440/468 | Cost: 0.2254\n",
      "Epoch: 028/040 Train Acc.: 91.48% | Test Acc.: 88.29%\n",
      "Time elapsed: 7.42 min\n",
      "Epoch: 029/040 | Batch 000/468 | Cost: 0.1712\n",
      "Epoch: 029/040 | Batch 040/468 | Cost: 0.2329\n",
      "Epoch: 029/040 | Batch 080/468 | Cost: 0.2338\n",
      "Epoch: 029/040 | Batch 120/468 | Cost: 0.2496\n",
      "Epoch: 029/040 | Batch 160/468 | Cost: 0.2225\n",
      "Epoch: 029/040 | Batch 200/468 | Cost: 0.3182\n",
      "Epoch: 029/040 | Batch 240/468 | Cost: 0.2826\n",
      "Epoch: 029/040 | Batch 280/468 | Cost: 0.2180\n",
      "Epoch: 029/040 | Batch 320/468 | Cost: 0.2103\n",
      "Epoch: 029/040 | Batch 360/468 | Cost: 0.2058\n",
      "Epoch: 029/040 | Batch 400/468 | Cost: 0.2073\n",
      "Epoch: 029/040 | Batch 440/468 | Cost: 0.2228\n",
      "Epoch: 029/040 Train Acc.: 91.52% | Test Acc.: 87.97%\n",
      "Time elapsed: 7.69 min\n",
      "Epoch: 030/040 | Batch 000/468 | Cost: 0.1759\n",
      "Epoch: 030/040 | Batch 040/468 | Cost: 0.3561\n",
      "Epoch: 030/040 | Batch 080/468 | Cost: 0.2411\n",
      "Epoch: 030/040 | Batch 120/468 | Cost: 0.1497\n",
      "Epoch: 030/040 | Batch 160/468 | Cost: 0.2959\n",
      "Epoch: 030/040 | Batch 200/468 | Cost: 0.2720\n",
      "Epoch: 030/040 | Batch 240/468 | Cost: 0.2039\n",
      "Epoch: 030/040 | Batch 280/468 | Cost: 0.2859\n",
      "Epoch: 030/040 | Batch 320/468 | Cost: 0.1865\n",
      "Epoch: 030/040 | Batch 360/468 | Cost: 0.2980\n",
      "Epoch: 030/040 | Batch 400/468 | Cost: 0.2478\n",
      "Epoch: 030/040 | Batch 440/468 | Cost: 0.2260\n",
      "Epoch: 030/040 Train Acc.: 92.01% | Test Acc.: 88.33%\n",
      "Time elapsed: 7.95 min\n",
      "Epoch: 031/040 | Batch 000/468 | Cost: 0.2203\n",
      "Epoch: 031/040 | Batch 040/468 | Cost: 0.2122\n",
      "Epoch: 031/040 | Batch 080/468 | Cost: 0.1557\n",
      "Epoch: 031/040 | Batch 120/468 | Cost: 0.4307\n",
      "Epoch: 031/040 | Batch 160/468 | Cost: 0.3557\n",
      "Epoch: 031/040 | Batch 200/468 | Cost: 0.1831\n",
      "Epoch: 031/040 | Batch 240/468 | Cost: 0.2233\n",
      "Epoch: 031/040 | Batch 280/468 | Cost: 0.1888\n",
      "Epoch: 031/040 | Batch 320/468 | Cost: 0.1862\n",
      "Epoch: 031/040 | Batch 360/468 | Cost: 0.2081\n",
      "Epoch: 031/040 | Batch 400/468 | Cost: 0.3035\n",
      "Epoch: 031/040 | Batch 440/468 | Cost: 0.2786\n",
      "Epoch: 031/040 Train Acc.: 91.54% | Test Acc.: 88.05%\n",
      "Time elapsed: 8.22 min\n",
      "Epoch: 032/040 | Batch 000/468 | Cost: 0.1656\n",
      "Epoch: 032/040 | Batch 040/468 | Cost: 0.1787\n",
      "Epoch: 032/040 | Batch 080/468 | Cost: 0.2158\n",
      "Epoch: 032/040 | Batch 120/468 | Cost: 0.2792\n",
      "Epoch: 032/040 | Batch 160/468 | Cost: 0.2778\n",
      "Epoch: 032/040 | Batch 200/468 | Cost: 0.1967\n",
      "Epoch: 032/040 | Batch 240/468 | Cost: 0.3117\n",
      "Epoch: 032/040 | Batch 280/468 | Cost: 0.2324\n",
      "Epoch: 032/040 | Batch 320/468 | Cost: 0.2650\n",
      "Epoch: 032/040 | Batch 360/468 | Cost: 0.2681\n",
      "Epoch: 032/040 | Batch 400/468 | Cost: 0.1668\n",
      "Epoch: 032/040 | Batch 440/468 | Cost: 0.2485\n",
      "Epoch: 032/040 Train Acc.: 91.64% | Test Acc.: 87.91%\n",
      "Time elapsed: 8.49 min\n",
      "Epoch: 033/040 | Batch 000/468 | Cost: 0.3281\n",
      "Epoch: 033/040 | Batch 040/468 | Cost: 0.2080\n",
      "Epoch: 033/040 | Batch 080/468 | Cost: 0.1397\n",
      "Epoch: 033/040 | Batch 120/468 | Cost: 0.1558\n",
      "Epoch: 033/040 | Batch 160/468 | Cost: 0.2461\n",
      "Epoch: 033/040 | Batch 200/468 | Cost: 0.2366\n",
      "Epoch: 033/040 | Batch 240/468 | Cost: 0.2321\n",
      "Epoch: 033/040 | Batch 280/468 | Cost: 0.2173\n",
      "Epoch: 033/040 | Batch 320/468 | Cost: 0.1571\n",
      "Epoch: 033/040 | Batch 360/468 | Cost: 0.2016\n",
      "Epoch: 033/040 | Batch 400/468 | Cost: 0.1468\n",
      "Epoch: 033/040 | Batch 440/468 | Cost: 0.1780\n",
      "Epoch: 033/040 Train Acc.: 91.63% | Test Acc.: 87.71%\n",
      "Time elapsed: 8.76 min\n",
      "Epoch: 034/040 | Batch 000/468 | Cost: 0.1976\n",
      "Epoch: 034/040 | Batch 040/468 | Cost: 0.2263\n",
      "Epoch: 034/040 | Batch 080/468 | Cost: 0.2305\n",
      "Epoch: 034/040 | Batch 120/468 | Cost: 0.2029\n",
      "Epoch: 034/040 | Batch 160/468 | Cost: 0.2185\n",
      "Epoch: 034/040 | Batch 200/468 | Cost: 0.1844\n",
      "Epoch: 034/040 | Batch 240/468 | Cost: 0.2881\n",
      "Epoch: 034/040 | Batch 280/468 | Cost: 0.1873\n",
      "Epoch: 034/040 | Batch 320/468 | Cost: 0.2203\n",
      "Epoch: 034/040 | Batch 360/468 | Cost: 0.1512\n",
      "Epoch: 034/040 | Batch 400/468 | Cost: 0.1447\n",
      "Epoch: 034/040 | Batch 440/468 | Cost: 0.2087\n",
      "Epoch: 034/040 Train Acc.: 91.78% | Test Acc.: 87.80%\n",
      "Time elapsed: 9.03 min\n",
      "Epoch: 035/040 | Batch 000/468 | Cost: 0.3094\n",
      "Epoch: 035/040 | Batch 040/468 | Cost: 0.2027\n",
      "Epoch: 035/040 | Batch 080/468 | Cost: 0.2142\n",
      "Epoch: 035/040 | Batch 120/468 | Cost: 0.2226\n",
      "Epoch: 035/040 | Batch 160/468 | Cost: 0.2094\n",
      "Epoch: 035/040 | Batch 200/468 | Cost: 0.3042\n",
      "Epoch: 035/040 | Batch 240/468 | Cost: 0.1733\n",
      "Epoch: 035/040 | Batch 280/468 | Cost: 0.3622\n",
      "Epoch: 035/040 | Batch 320/468 | Cost: 0.1995\n",
      "Epoch: 035/040 | Batch 360/468 | Cost: 0.2838\n",
      "Epoch: 035/040 | Batch 400/468 | Cost: 0.2239\n",
      "Epoch: 035/040 | Batch 440/468 | Cost: 0.2659\n",
      "Epoch: 035/040 Train Acc.: 92.57% | Test Acc.: 88.40%\n",
      "Time elapsed: 9.30 min\n",
      "Epoch: 036/040 | Batch 000/468 | Cost: 0.2339\n",
      "Epoch: 036/040 | Batch 040/468 | Cost: 0.2796\n",
      "Epoch: 036/040 | Batch 080/468 | Cost: 0.2275\n",
      "Epoch: 036/040 | Batch 120/468 | Cost: 0.2736\n",
      "Epoch: 036/040 | Batch 160/468 | Cost: 0.1560\n",
      "Epoch: 036/040 | Batch 200/468 | Cost: 0.1956\n",
      "Epoch: 036/040 | Batch 240/468 | Cost: 0.2494\n",
      "Epoch: 036/040 | Batch 280/468 | Cost: 0.2355\n",
      "Epoch: 036/040 | Batch 320/468 | Cost: 0.2127\n",
      "Epoch: 036/040 | Batch 360/468 | Cost: 0.1660\n",
      "Epoch: 036/040 | Batch 400/468 | Cost: 0.2456\n",
      "Epoch: 036/040 | Batch 440/468 | Cost: 0.1578\n",
      "Epoch: 036/040 Train Acc.: 91.82% | Test Acc.: 87.69%\n",
      "Time elapsed: 9.56 min\n",
      "Epoch: 037/040 | Batch 000/468 | Cost: 0.1665\n",
      "Epoch: 037/040 | Batch 040/468 | Cost: 0.3458\n",
      "Epoch: 037/040 | Batch 080/468 | Cost: 0.2510\n",
      "Epoch: 037/040 | Batch 120/468 | Cost: 0.2463\n",
      "Epoch: 037/040 | Batch 160/468 | Cost: 0.2197\n",
      "Epoch: 037/040 | Batch 200/468 | Cost: 0.1981\n",
      "Epoch: 037/040 | Batch 240/468 | Cost: 0.2326\n",
      "Epoch: 037/040 | Batch 280/468 | Cost: 0.3035\n",
      "Epoch: 037/040 | Batch 320/468 | Cost: 0.1910\n",
      "Epoch: 037/040 | Batch 360/468 | Cost: 0.2123\n",
      "Epoch: 037/040 | Batch 400/468 | Cost: 0.1387\n",
      "Epoch: 037/040 | Batch 440/468 | Cost: 0.3210\n",
      "Epoch: 037/040 Train Acc.: 93.02% | Test Acc.: 88.91%\n",
      "Time elapsed: 9.82 min\n",
      "Epoch: 038/040 | Batch 000/468 | Cost: 0.1589\n",
      "Epoch: 038/040 | Batch 040/468 | Cost: 0.2299\n",
      "Epoch: 038/040 | Batch 080/468 | Cost: 0.1767\n",
      "Epoch: 038/040 | Batch 120/468 | Cost: 0.1907\n",
      "Epoch: 038/040 | Batch 160/468 | Cost: 0.1863\n",
      "Epoch: 038/040 | Batch 200/468 | Cost: 0.2272\n",
      "Epoch: 038/040 | Batch 240/468 | Cost: 0.1455\n",
      "Epoch: 038/040 | Batch 280/468 | Cost: 0.1625\n",
      "Epoch: 038/040 | Batch 320/468 | Cost: 0.1729\n",
      "Epoch: 038/040 | Batch 360/468 | Cost: 0.1948\n",
      "Epoch: 038/040 | Batch 400/468 | Cost: 0.2987\n",
      "Epoch: 038/040 | Batch 440/468 | Cost: 0.1403\n",
      "Epoch: 038/040 Train Acc.: 92.73% | Test Acc.: 88.07%\n",
      "Time elapsed: 10.09 min\n",
      "Epoch: 039/040 | Batch 000/468 | Cost: 0.1989\n",
      "Epoch: 039/040 | Batch 040/468 | Cost: 0.1261\n",
      "Epoch: 039/040 | Batch 080/468 | Cost: 0.1478\n",
      "Epoch: 039/040 | Batch 120/468 | Cost: 0.1166\n",
      "Epoch: 039/040 | Batch 160/468 | Cost: 0.1920\n",
      "Epoch: 039/040 | Batch 200/468 | Cost: 0.1594\n",
      "Epoch: 039/040 | Batch 240/468 | Cost: 0.2004\n",
      "Epoch: 039/040 | Batch 280/468 | Cost: 0.2399\n",
      "Epoch: 039/040 | Batch 320/468 | Cost: 0.1905\n",
      "Epoch: 039/040 | Batch 360/468 | Cost: 0.1216\n",
      "Epoch: 039/040 | Batch 400/468 | Cost: 0.1397\n",
      "Epoch: 039/040 | Batch 440/468 | Cost: 0.1899\n",
      "Epoch: 039/040 Train Acc.: 92.92% | Test Acc.: 88.12%\n",
      "Time elapsed: 10.35 min\n",
      "Epoch: 040/040 | Batch 000/468 | Cost: 0.1569\n",
      "Epoch: 040/040 | Batch 040/468 | Cost: 0.1418\n",
      "Epoch: 040/040 | Batch 080/468 | Cost: 0.1800\n",
      "Epoch: 040/040 | Batch 120/468 | Cost: 0.1309\n",
      "Epoch: 040/040 | Batch 160/468 | Cost: 0.1562\n",
      "Epoch: 040/040 | Batch 200/468 | Cost: 0.2431\n",
      "Epoch: 040/040 | Batch 240/468 | Cost: 0.1834\n",
      "Epoch: 040/040 | Batch 280/468 | Cost: 0.2805\n",
      "Epoch: 040/040 | Batch 320/468 | Cost: 0.1831\n",
      "Epoch: 040/040 | Batch 360/468 | Cost: 0.2107\n",
      "Epoch: 040/040 | Batch 400/468 | Cost: 0.2291\n",
      "Epoch: 040/040 | Batch 440/468 | Cost: 0.1464\n",
      "Epoch: 040/040 Train Acc.: 93.46% | Test Acc.: 88.91%\n",
      "Time elapsed: 10.62 min\n",
      "Total Training Time: 10.62 min\n"
     ]
    }
   ],
   "source": [
    "############################################################\n",
    "# 변경 가능한 셀\n",
    "############################################################\n",
    "\n",
    "model = MLP(num_features=28*28,\n",
    "            num_hidden_1=512,\n",
    "            num_hidden_2=256,\n",
    "            num_hidden_3 =128,\n",
    "            num_classes=10)\n",
    "\n",
    "model = model.to(DEVICE)\n",
    "\n",
    "\n",
    "### Optimizer는 가중치를 업데이트하는 방법을 바꾸어 더 빠르게 좋은 성능을 낼 수 있도록합니다.\n",
    "### 이 과제에서는 optimizer를 변경하지 않습니다. \n",
    "### 그러나 Learning Rate(lr)는 변경이 가능합니다.\n",
    "optimizer = torch.optim.SGD(model.parameters(), lr=0.018)\n",
    "\n",
    "NUM_EPOCHS =40 # 변경 가능\n",
    "############################################################\n",
    "\n",
    "### 아래는 변경 불가능\n",
    "def compute_accuracy_and_loss(model, data_loader, device):\n",
    "    correct_pred, num_examples = 0, 0\n",
    "    cross_entropy = 0.\n",
    "    for i, (features, targets) in enumerate(data_loader):\n",
    "            \n",
    "        features = features.view(-1, 28*28).to(device)\n",
    "        targets = targets.to(device)\n",
    "\n",
    "        logits, probas = model(features)\n",
    "        \n",
    "        # Loss 계산 시에는 logits 이용\n",
    "        cross_entropy += F.cross_entropy(logits, targets).item()\n",
    "        \n",
    "        # 추론 시에는 probas 이용\n",
    "        _, predicted_labels = torch.max(probas, 1)\n",
    "        num_examples += targets.size(0)\n",
    "        correct_pred += (predicted_labels == targets).sum()\n",
    "    return correct_pred.cpu().float()/num_examples * 100, cross_entropy/num_examples\n",
    "    \n",
    "\n",
    "start_time = time.time()\n",
    "train_acc_lst, test_acc_lst = [], []\n",
    "train_loss_lst, test_loss_lst = [], []\n",
    "\n",
    "for epoch in range(NUM_EPOCHS):\n",
    "    \n",
    "    model.train()\n",
    "    \n",
    "    for batch_idx, (features, targets) in enumerate(train_loader):\n",
    "    \n",
    "        ### PREPARE MINIBATCH\n",
    "        features = features.view(-1, 28*28).to(DEVICE)\n",
    "        targets = targets.to(DEVICE)\n",
    "            \n",
    "        ### FORWARD AND BACK PROP\n",
    "        logits, probas = model(features)\n",
    "        cost = F.cross_entropy(logits, targets)\n",
    "        optimizer.zero_grad()\n",
    "        \n",
    "        cost.backward()\n",
    "        \n",
    "        ### UPDATE MODEL PARAMETERS\n",
    "        optimizer.step()\n",
    "        \n",
    "        ### LOGGING\n",
    "        if not batch_idx % 40:\n",
    "            print (f'Epoch: {epoch+1:03d}/{NUM_EPOCHS:03d} | '\n",
    "                   f'Batch {batch_idx:03d}/{len(train_loader):03d} |' \n",
    "                   f' Cost: {cost:.4f}')\n",
    "\n",
    "    # no need to build the computation graph for backprop when computing accuracy\n",
    "    model.eval()\n",
    "    with torch.set_grad_enabled(False):\n",
    "        train_acc, train_loss = compute_accuracy_and_loss(model, train_loader, device=DEVICE)\n",
    "        test_acc, test_loss = compute_accuracy_and_loss(model, test_loader, device=DEVICE)\n",
    "        train_acc_lst.append(train_acc)\n",
    "        test_acc_lst.append(test_acc)\n",
    "        train_loss_lst.append(train_loss)\n",
    "        test_loss_lst.append(test_loss)\n",
    "        print(f'Epoch: {epoch+1:03d}/{NUM_EPOCHS:03d} Train Acc.: {train_acc:.2f}%'\n",
    "              f' | Test Acc.: {test_acc:.2f}%')\n",
    "        \n",
    "    elapsed = (time.time() - start_time)/60\n",
    "    print(f'Time elapsed: {elapsed:.2f} min')\n",
    "  \n",
    "elapsed = (time.time() - start_time)/60\n",
    "print(f'Total Training Time: {elapsed:.2f} min')"
   ]
  },
  {
   "cell_type": "markdown",
   "metadata": {
    "id": "lIFJwm2Q-Xhw"
   },
   "source": [
    "## 5) Evaluation\n",
    "\n",
    "테스트 데이터와 학습 데이터의 Loss변화를 확인합니다."
   ]
  },
  {
   "cell_type": "code",
   "execution_count": 23,
   "metadata": {
    "colab": {
     "base_uri": "https://localhost:8080/",
     "height": 449
    },
    "id": "sInQBYQW-Xhw",
    "outputId": "ef706c53-91bf-45c2-c944-0c25c2a2c3b2"
   },
   "outputs": [
    {
     "data": {
      "image/png": "[encoded data removed]",
      "text/plain": [
       "<Figure size 640x480 with 1 Axes>"
      ]
     },
     "metadata": {},
     "output_type": "display_data"
    }
   ],
   "source": [
    "plt.plot(range(1, NUM_EPOCHS+1), train_loss_lst, label='Training loss')\n",
    "plt.plot(range(1, NUM_EPOCHS+1), test_loss_lst, label='Test loss')\n",
    "plt.legend(loc='upper right')\n",
    "plt.ylabel('Cross entropy')\n",
    "plt.xlabel('Epoch')\n",
    "plt.show()"
   ]
  },
  {
   "cell_type": "code",
   "execution_count": 24,
   "metadata": {
    "colab": {
     "base_uri": "https://localhost:8080/",
     "height": 449
    },
    "id": "Gvvj088e-Xhx",
    "outputId": "d6b351e6-7630-4d52-c04a-681d0345554e"
   },
   "outputs": [
    {
     "data": {
      "image/png": "[encoded data removed]",
      "text/plain": [
       "<Figure size 640x480 with 1 Axes>"
      ]
     },
     "metadata": {},
     "output_type": "display_data"
    }
   ],
   "source": [
    "plt.plot(range(1, NUM_EPOCHS+1), train_acc_lst, label='Training accuracy')\n",
    "plt.plot(range(1, NUM_EPOCHS+1), test_acc_lst, label='Test accuracy')\n",
    "plt.legend(loc='upper left')\n",
    "plt.ylabel('Cross entropy')\n",
    "plt.xlabel('Epoch')\n",
    "plt.show()"
   ]
  },
  {
   "cell_type": "code",
   "execution_count": 25,
   "metadata": {
    "colab": {
     "base_uri": "https://localhost:8080/"
    },
    "id": "31xjdpQh-Xhy",
    "outputId": "1b707ed2-8409-4c69-f6ae-b1926d64647f"
   },
   "outputs": [
    {
     "name": "stdout",
     "output_type": "stream",
     "text": [
      "Test accuracy: 88.91%\n"
     ]
    }
   ],
   "source": [
    "model.eval()\n",
    "with torch.set_grad_enabled(False): # save memory during inference\n",
    "    test_acc, test_loss = compute_accuracy_and_loss(model, test_loader, DEVICE)\n",
    "    print(f'Test accuracy: {test_acc:.2f}%')"
   ]
  },
  {
   "cell_type": "markdown",
   "metadata": {
    "id": "dN99s7ct-Xhy"
   },
   "source": [
    "## 6) Discussion"
   ]
  },
  {
   "cell_type": "markdown",
   "metadata": {
    "id": "pXn5WTLh-Xhy"
   },
   "source": [
    "**1) 학습, 테스트 정확도는 얼마인가요? (위 숫자를 복사하세요.)**"
   ]
  },
  {
   "cell_type": "markdown",
   "metadata": {
    "id": "xyEG0G4w-Xhz"
   },
   "source": [
    "- Training:  93.46%\n",
    "- Test 88.91%"
   ]
  },
  {
   "cell_type": "markdown",
   "metadata": {
    "id": "RHC2tDcO-Xhz"
   },
   "source": [
    "**2) overfitting을 경험했나요? 만약 그랬다면 왜 그랬을지 적어보고, overfitting을 방지하기위한 간단한 방법은 무엇일까요?**"
   ]
  },
  {
   "cell_type": "markdown",
   "metadata": {
    "id": "e5BRaPpL-Xhz"
   },
   "source": [
    "[제안하는 방법 적기] \n",
    "epoch가 증가하면 overfitting이 일어날 수 있다. epoch 수를 늘리면 늘릴수록 동일한 데이터를 반복해서 보게되는데 이것이 overfitting으로 이어질 수있다. 이번 실습을 하면서 training 성능은 향상되었는데 test 성능은 떨어지는 현상을 목격했다. 이때 batch size가 256이었는데 이를 128로 줄여 overfitting을 해결했다. 위의 evaluation에서 epoch가 증가할수록 cross entropy의 차이가 점점 커지는 것도 overfitting의 일종이라 볼 수 있다.   \n",
    "이러한 over fitting을 해결하기위해서는    \n",
    "-적당한 epoch,  \n",
    "-작은 batch size,     \n",
    "-hidden layer의 수를 줄이거나,     \n",
    "-노드의 수를 조정하는것,       \n",
    "-혹은 regulariztion을 사용,     \n",
    "-더많은 학습데이터를 넣어주는 방법으로 해결 할 수있다.  "
   ]
  },
  {
   "cell_type": "markdown",
   "metadata": {
    "id": "qW5TACz2-Xh0"
   },
   "source": [
    "예를 들면, \n",
    "\n",
    "- batch size를 256으로 변경\n",
    "- 두개의 hidden layers의 activation을 relu로 변경\n",
    "- learning rate를 0.2로 변경"
   ]
  },
  {
   "cell_type": "markdown",
   "metadata": {
    "id": "yDXnIVHc-Xh0"
   },
   "source": [
    "**3) 만약 hidden layer 수가 늘어나면(3개 이상) 얻을 수 있는 장/단점은 무엇일까요?**"
   ]
  },
  {
   "cell_type": "markdown",
   "metadata": {
    "id": "6OmevMh--Xh1"
   },
   "source": [
    "[답변작성]\n",
    "\n",
    "은닉층의 개수가 늘어나면 더욱 복잡한 특성을 파악할수 있다.  \n",
    "그러나 은닉층의 개수가 너무 많으면 복잡한 특성을 학습했기에 overfitting될 위험이 있다. 또한 역전파(Backpropagation) 과정이 늘어나 학습속도가 느려지게 된다. "
   ]
  },
  {
   "cell_type": "markdown",
   "metadata": {
    "id": "u8rrT0gS-Xh1"
   },
   "source": [
    "**4) 구현하면서 수정한 부분에 대해 작성하여 수정한 이유 및 성능향상이 생긴 이유에 대해 답해보세요.**"
   ]
  },
  {
   "cell_type": "markdown",
   "metadata": {
    "id": "4_jEyuyZ-Xh1"
   },
   "source": [
    "[답변작성]  \n",
    "batch size를 128개로 늘림 =     \n",
    "learning rate = 0.018로 바꿈 = lr이 1이면 너무 빠른 속도로 sgd가 진행되어 오차가 작아질때 학습 효과가 제대로 나오지 않기에 낮추었다.    \n",
    "epoch를 40회로 늘림= lr을 낮추어 늦춰진 가중치 갱신을 많은 횟수를 반복함으로 모델이 학습을 많이 함   \n",
    "hidden layer을 3개로 늘림= 옷의 특성상 복잡한 패턴이 있을 것이라 생각되어 hidden layer을 하나 더 늘렸다.   \n",
    "hidden layer의 노드 수를 512,256,128로 바꿈 = 처음에 노드 수가 10이었는데 그러면 너무 많은 정보가 압축될것이라 예상, 점진적으로 정보를 압축하는것이 좋다고 판단했다.   "
   ]
  },
  {
   "cell_type": "code",
   "execution_count": null,
   "metadata": {},
   "outputs": [],
   "source": []
  }
 ],
 "metadata": {
  "accelerator": "GPU",
  "colab": {
   "machine_shape": "hm",
   "provenance": []
  },
  "gpuClass": "premium",
  "kernelspec": {
   "display_name": "Python 3 (ipykernel)",
   "language": "python",
   "name": "python3"
  },
  "language_info": {
   "codemirror_mode": {
    "name": "ipython",
    "version": 3
   },
   "file_extension": ".py",
   "mimetype": "text/x-python",
   "name": "python",
   "nbconvert_exporter": "python",
   "pygments_lexer": "ipython3",
   "version": "3.10.9"
  }
 },
 "nbformat": 4,
 "nbformat_minor": 1
}
